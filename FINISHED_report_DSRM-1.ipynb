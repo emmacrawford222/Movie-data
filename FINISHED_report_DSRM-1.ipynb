{
 "cells": [
  {
   "cell_type": "markdown",
   "metadata": {},
   "source": [
    "Introduction:\n",
    "\n",
    "The film industry is a competitive place, with IMDB recording 12,077 films released in 2018 alone (IMDB, 2018). Therefore, when producing a new film, it is important to know what makes a successful film. As the internet is so vital to us these days, with most adults in the UK spending on average 3hrs and 15mins online each year (OFCOM, 2018) many studies have looked into the effect of utilising online platforms to boost a film’s success. Kim, Park & Park (2013) found online word of mouth to be highly influential in the consumption of movies. Further to this (Tsao, 2014) found online reviews by users to be more influential than those written by critics. \n",
    "\n",
    "The following report also aims to identify the features of previous successful movies, using an IMDB dataset. The measure of success I will be using in the following report is the ‘Gross’. Based on past research I believe that communication amongst consumers regarding a film is the best way to increase a movies success, especially if this mode of communication is online. \n",
    "\n",
    "Firstly, I will assess correlations between gross and the varaibles 'number of users for reviews' and 'movie facebook likes'. I expect that as each of these variables increase in number, so will gross (positive correlation); I expect this to be more pronounced in a 'high gross' group when compared with a 'low gross' group'. I also hypothesise that 1) Movies with a high gross will have a significantly higher mean number of user reviews than low gross movies and 2) Movies with a high gross will have a significantly higher mean number of Facebook likes than low gross movies. I will look at these hypotheses both in the context of the whole dataset and in relation to films which had the same budget as the current film (£1.5 Million), to see if the trends hold true at this budget. \n"
   ]
  },
  {
   "cell_type": "code",
   "execution_count": 1,
   "metadata": {},
   "outputs": [],
   "source": [
    "#usual imports for data anlysis \n",
    "import numpy as np\n",
    "%matplotlib inline\n",
    "from matplotlib import pyplot as plt\n",
    "import pandas as pd\n",
    "import os"
   ]
  },
  {
   "cell_type": "markdown",
   "metadata": {},
   "source": [
    "The Dataset contained information about 5,043 movies. I found 1 data point to be a clear outlier in 'movie Facebook likes'(Figure 2). This was removed from analysis(Figure 3). In relation to my variables of interest (Gross, Number of user reviews and Movie Facebook likes) 0 values are both possible and meaningful in the context of this analysis, so they were not removed.\n",
    "\n",
    "Due to the high level of datapoints outside the 'gross' boxplot(Figure 1), I decided these should not be removed as it is highly likely they are meaningful data points. To cater for the wide distribution of data and the aim of this report, I split the dataset into high and low gross groups. I have defined ‘high gross’ as £3 Million as this would be a good return on the £1.5 Million spend. Low gross is defined as less than £3 Million. \n",
    "\n",
    "In my exploration data, for the high gross group, I can see a moderate relationship between gross and number of user reviews (r = .55)(Figure 5), However no such relationship existed amongst the low gross group(Figure 6). The high gross group showed a small relationship between Facebook likes and gross (r= .37)(Figure 7), however, this relationship was virtually non-existent in the in the low gross group(Figure 8). For the budget of £1.5 Million, there were no data points for analysis. Looking at the means for high an low gross in the exploration data, they seem to differ hugely for both number of user reviews and movie Facebook likes, these will be tested for significance in the test data. \n"
   ]
  },
  {
   "cell_type": "code",
   "execution_count": 121,
   "metadata": {},
   "outputs": [
    {
     "data": {
      "text/html": [
       "<div>\n",
       "<style scoped>\n",
       "    .dataframe tbody tr th:only-of-type {\n",
       "        vertical-align: middle;\n",
       "    }\n",
       "\n",
       "    .dataframe tbody tr th {\n",
       "        vertical-align: top;\n",
       "    }\n",
       "\n",
       "    .dataframe thead th {\n",
       "        text-align: right;\n",
       "    }\n",
       "</style>\n",
       "<table border=\"1\" class=\"dataframe\">\n",
       "  <thead>\n",
       "    <tr style=\"text-align: right;\">\n",
       "      <th></th>\n",
       "      <th>color</th>\n",
       "      <th>director_name</th>\n",
       "      <th>num_critic_for_reviews</th>\n",
       "      <th>duration</th>\n",
       "      <th>director_facebook_likes</th>\n",
       "      <th>actor_3_facebook_likes</th>\n",
       "      <th>actor_2_name</th>\n",
       "      <th>actor_1_facebook_likes</th>\n",
       "      <th>gross</th>\n",
       "      <th>genres</th>\n",
       "      <th>...</th>\n",
       "      <th>num_user_for_reviews</th>\n",
       "      <th>language</th>\n",
       "      <th>country</th>\n",
       "      <th>content_rating</th>\n",
       "      <th>budget</th>\n",
       "      <th>title_year</th>\n",
       "      <th>actor_2_facebook_likes</th>\n",
       "      <th>imdb_score</th>\n",
       "      <th>aspect_ratio</th>\n",
       "      <th>movie_facebook_likes</th>\n",
       "    </tr>\n",
       "  </thead>\n",
       "  <tbody>\n",
       "    <tr>\n",
       "      <th>0</th>\n",
       "      <td>Color</td>\n",
       "      <td>James Cameron</td>\n",
       "      <td>723.0</td>\n",
       "      <td>178.0</td>\n",
       "      <td>0.0</td>\n",
       "      <td>855.0</td>\n",
       "      <td>Joel David Moore</td>\n",
       "      <td>1000.0</td>\n",
       "      <td>760505847.0</td>\n",
       "      <td>Action|Adventure|Fantasy|Sci-Fi</td>\n",
       "      <td>...</td>\n",
       "      <td>3054.0</td>\n",
       "      <td>English</td>\n",
       "      <td>USA</td>\n",
       "      <td>PG-13</td>\n",
       "      <td>237000000.0</td>\n",
       "      <td>2009.0</td>\n",
       "      <td>936.0</td>\n",
       "      <td>7.9</td>\n",
       "      <td>1.78</td>\n",
       "      <td>33000</td>\n",
       "    </tr>\n",
       "    <tr>\n",
       "      <th>1</th>\n",
       "      <td>Color</td>\n",
       "      <td>Gore Verbinski</td>\n",
       "      <td>302.0</td>\n",
       "      <td>169.0</td>\n",
       "      <td>563.0</td>\n",
       "      <td>1000.0</td>\n",
       "      <td>Orlando Bloom</td>\n",
       "      <td>40000.0</td>\n",
       "      <td>309404152.0</td>\n",
       "      <td>Action|Adventure|Fantasy</td>\n",
       "      <td>...</td>\n",
       "      <td>1238.0</td>\n",
       "      <td>English</td>\n",
       "      <td>USA</td>\n",
       "      <td>PG-13</td>\n",
       "      <td>300000000.0</td>\n",
       "      <td>2007.0</td>\n",
       "      <td>5000.0</td>\n",
       "      <td>7.1</td>\n",
       "      <td>2.35</td>\n",
       "      <td>0</td>\n",
       "    </tr>\n",
       "    <tr>\n",
       "      <th>2</th>\n",
       "      <td>Color</td>\n",
       "      <td>Sam Mendes</td>\n",
       "      <td>602.0</td>\n",
       "      <td>148.0</td>\n",
       "      <td>0.0</td>\n",
       "      <td>161.0</td>\n",
       "      <td>Rory Kinnear</td>\n",
       "      <td>11000.0</td>\n",
       "      <td>200074175.0</td>\n",
       "      <td>Action|Adventure|Thriller</td>\n",
       "      <td>...</td>\n",
       "      <td>994.0</td>\n",
       "      <td>English</td>\n",
       "      <td>UK</td>\n",
       "      <td>PG-13</td>\n",
       "      <td>245000000.0</td>\n",
       "      <td>2015.0</td>\n",
       "      <td>393.0</td>\n",
       "      <td>6.8</td>\n",
       "      <td>2.35</td>\n",
       "      <td>85000</td>\n",
       "    </tr>\n",
       "    <tr>\n",
       "      <th>3</th>\n",
       "      <td>Color</td>\n",
       "      <td>Christopher Nolan</td>\n",
       "      <td>813.0</td>\n",
       "      <td>164.0</td>\n",
       "      <td>22000.0</td>\n",
       "      <td>23000.0</td>\n",
       "      <td>Christian Bale</td>\n",
       "      <td>27000.0</td>\n",
       "      <td>448130642.0</td>\n",
       "      <td>Action|Thriller</td>\n",
       "      <td>...</td>\n",
       "      <td>2701.0</td>\n",
       "      <td>English</td>\n",
       "      <td>USA</td>\n",
       "      <td>PG-13</td>\n",
       "      <td>250000000.0</td>\n",
       "      <td>2012.0</td>\n",
       "      <td>23000.0</td>\n",
       "      <td>8.5</td>\n",
       "      <td>2.35</td>\n",
       "      <td>164000</td>\n",
       "    </tr>\n",
       "    <tr>\n",
       "      <th>4</th>\n",
       "      <td>NaN</td>\n",
       "      <td>Doug Walker</td>\n",
       "      <td>NaN</td>\n",
       "      <td>NaN</td>\n",
       "      <td>131.0</td>\n",
       "      <td>NaN</td>\n",
       "      <td>Rob Walker</td>\n",
       "      <td>131.0</td>\n",
       "      <td>NaN</td>\n",
       "      <td>Documentary</td>\n",
       "      <td>...</td>\n",
       "      <td>NaN</td>\n",
       "      <td>NaN</td>\n",
       "      <td>NaN</td>\n",
       "      <td>NaN</td>\n",
       "      <td>NaN</td>\n",
       "      <td>NaN</td>\n",
       "      <td>12.0</td>\n",
       "      <td>7.1</td>\n",
       "      <td>NaN</td>\n",
       "      <td>0</td>\n",
       "    </tr>\n",
       "  </tbody>\n",
       "</table>\n",
       "<p>5 rows × 28 columns</p>\n",
       "</div>"
      ],
      "text/plain": [
       "   color      director_name  num_critic_for_reviews  duration  \\\n",
       "0  Color      James Cameron                   723.0     178.0   \n",
       "1  Color     Gore Verbinski                   302.0     169.0   \n",
       "2  Color         Sam Mendes                   602.0     148.0   \n",
       "3  Color  Christopher Nolan                   813.0     164.0   \n",
       "4    NaN        Doug Walker                     NaN       NaN   \n",
       "\n",
       "   director_facebook_likes  actor_3_facebook_likes      actor_2_name  \\\n",
       "0                      0.0                   855.0  Joel David Moore   \n",
       "1                    563.0                  1000.0     Orlando Bloom   \n",
       "2                      0.0                   161.0      Rory Kinnear   \n",
       "3                  22000.0                 23000.0    Christian Bale   \n",
       "4                    131.0                     NaN        Rob Walker   \n",
       "\n",
       "   actor_1_facebook_likes        gross                           genres  ...  \\\n",
       "0                  1000.0  760505847.0  Action|Adventure|Fantasy|Sci-Fi  ...   \n",
       "1                 40000.0  309404152.0         Action|Adventure|Fantasy  ...   \n",
       "2                 11000.0  200074175.0        Action|Adventure|Thriller  ...   \n",
       "3                 27000.0  448130642.0                  Action|Thriller  ...   \n",
       "4                   131.0          NaN                      Documentary  ...   \n",
       "\n",
       "  num_user_for_reviews language  country  content_rating       budget  \\\n",
       "0               3054.0  English      USA           PG-13  237000000.0   \n",
       "1               1238.0  English      USA           PG-13  300000000.0   \n",
       "2                994.0  English       UK           PG-13  245000000.0   \n",
       "3               2701.0  English      USA           PG-13  250000000.0   \n",
       "4                  NaN      NaN      NaN             NaN          NaN   \n",
       "\n",
       "   title_year actor_2_facebook_likes imdb_score  aspect_ratio  \\\n",
       "0      2009.0                  936.0        7.9          1.78   \n",
       "1      2007.0                 5000.0        7.1          2.35   \n",
       "2      2015.0                  393.0        6.8          2.35   \n",
       "3      2012.0                23000.0        8.5          2.35   \n",
       "4         NaN                   12.0        7.1           NaN   \n",
       "\n",
       "  movie_facebook_likes  \n",
       "0                33000  \n",
       "1                    0  \n",
       "2                85000  \n",
       "3               164000  \n",
       "4                    0  \n",
       "\n",
       "[5 rows x 28 columns]"
      ]
     },
     "execution_count": 121,
     "metadata": {},
     "output_type": "execute_result"
    }
   ],
   "source": [
    "#reading my file into panda dataframe\n",
    "df = pd.read_csv(\"/Users/emmacrawford/Downloads/movie_metadata.csv\")\n",
    "#check it's imported correctly              \n",
    "df.head()"
   ]
  },
  {
   "cell_type": "code",
   "execution_count": 119,
   "metadata": {},
   "outputs": [
    {
     "data": {
      "text/html": [
       "<div>\n",
       "<style scoped>\n",
       "    .dataframe tbody tr th:only-of-type {\n",
       "        vertical-align: middle;\n",
       "    }\n",
       "\n",
       "    .dataframe tbody tr th {\n",
       "        vertical-align: top;\n",
       "    }\n",
       "\n",
       "    .dataframe thead th {\n",
       "        text-align: right;\n",
       "    }\n",
       "</style>\n",
       "<table border=\"1\" class=\"dataframe\">\n",
       "  <thead>\n",
       "    <tr style=\"text-align: right;\">\n",
       "      <th></th>\n",
       "      <th>num_critic_for_reviews</th>\n",
       "      <th>duration</th>\n",
       "      <th>director_facebook_likes</th>\n",
       "      <th>actor_3_facebook_likes</th>\n",
       "      <th>actor_1_facebook_likes</th>\n",
       "      <th>gross</th>\n",
       "      <th>num_voted_users</th>\n",
       "      <th>cast_total_facebook_likes</th>\n",
       "      <th>facenumber_in_poster</th>\n",
       "      <th>num_user_for_reviews</th>\n",
       "      <th>budget</th>\n",
       "      <th>title_year</th>\n",
       "      <th>actor_2_facebook_likes</th>\n",
       "      <th>imdb_score</th>\n",
       "      <th>aspect_ratio</th>\n",
       "      <th>movie_facebook_likes</th>\n",
       "    </tr>\n",
       "  </thead>\n",
       "  <tbody>\n",
       "    <tr>\n",
       "      <th>count</th>\n",
       "      <td>4993.000000</td>\n",
       "      <td>5028.000000</td>\n",
       "      <td>4939.000000</td>\n",
       "      <td>5020.000000</td>\n",
       "      <td>5036.000000</td>\n",
       "      <td>4.159000e+03</td>\n",
       "      <td>5.043000e+03</td>\n",
       "      <td>5043.000000</td>\n",
       "      <td>5030.000000</td>\n",
       "      <td>5022.000000</td>\n",
       "      <td>4.551000e+03</td>\n",
       "      <td>4935.000000</td>\n",
       "      <td>5030.000000</td>\n",
       "      <td>5043.000000</td>\n",
       "      <td>4714.000000</td>\n",
       "      <td>5043.000000</td>\n",
       "    </tr>\n",
       "    <tr>\n",
       "      <th>mean</th>\n",
       "      <td>140.194272</td>\n",
       "      <td>107.201074</td>\n",
       "      <td>686.509212</td>\n",
       "      <td>645.009761</td>\n",
       "      <td>6560.047061</td>\n",
       "      <td>4.846841e+07</td>\n",
       "      <td>8.366816e+04</td>\n",
       "      <td>9699.063851</td>\n",
       "      <td>1.371173</td>\n",
       "      <td>272.770808</td>\n",
       "      <td>3.975262e+07</td>\n",
       "      <td>2002.470517</td>\n",
       "      <td>1651.754473</td>\n",
       "      <td>6.442138</td>\n",
       "      <td>2.220403</td>\n",
       "      <td>7525.964505</td>\n",
       "    </tr>\n",
       "    <tr>\n",
       "      <th>std</th>\n",
       "      <td>121.601675</td>\n",
       "      <td>25.197441</td>\n",
       "      <td>2813.328607</td>\n",
       "      <td>1665.041728</td>\n",
       "      <td>15020.759120</td>\n",
       "      <td>6.845299e+07</td>\n",
       "      <td>1.384853e+05</td>\n",
       "      <td>18163.799124</td>\n",
       "      <td>2.013576</td>\n",
       "      <td>377.982886</td>\n",
       "      <td>2.061149e+08</td>\n",
       "      <td>12.474599</td>\n",
       "      <td>4042.438863</td>\n",
       "      <td>1.125116</td>\n",
       "      <td>1.385113</td>\n",
       "      <td>19320.445110</td>\n",
       "    </tr>\n",
       "    <tr>\n",
       "      <th>min</th>\n",
       "      <td>1.000000</td>\n",
       "      <td>7.000000</td>\n",
       "      <td>0.000000</td>\n",
       "      <td>0.000000</td>\n",
       "      <td>0.000000</td>\n",
       "      <td>1.620000e+02</td>\n",
       "      <td>5.000000e+00</td>\n",
       "      <td>0.000000</td>\n",
       "      <td>0.000000</td>\n",
       "      <td>1.000000</td>\n",
       "      <td>2.180000e+02</td>\n",
       "      <td>1916.000000</td>\n",
       "      <td>0.000000</td>\n",
       "      <td>1.600000</td>\n",
       "      <td>1.180000</td>\n",
       "      <td>0.000000</td>\n",
       "    </tr>\n",
       "    <tr>\n",
       "      <th>25%</th>\n",
       "      <td>50.000000</td>\n",
       "      <td>93.000000</td>\n",
       "      <td>7.000000</td>\n",
       "      <td>133.000000</td>\n",
       "      <td>614.000000</td>\n",
       "      <td>5.340988e+06</td>\n",
       "      <td>8.593500e+03</td>\n",
       "      <td>1411.000000</td>\n",
       "      <td>0.000000</td>\n",
       "      <td>65.000000</td>\n",
       "      <td>6.000000e+06</td>\n",
       "      <td>1999.000000</td>\n",
       "      <td>281.000000</td>\n",
       "      <td>5.800000</td>\n",
       "      <td>1.850000</td>\n",
       "      <td>0.000000</td>\n",
       "    </tr>\n",
       "    <tr>\n",
       "      <th>50%</th>\n",
       "      <td>110.000000</td>\n",
       "      <td>103.000000</td>\n",
       "      <td>49.000000</td>\n",
       "      <td>371.500000</td>\n",
       "      <td>988.000000</td>\n",
       "      <td>2.551750e+07</td>\n",
       "      <td>3.435900e+04</td>\n",
       "      <td>3090.000000</td>\n",
       "      <td>1.000000</td>\n",
       "      <td>156.000000</td>\n",
       "      <td>2.000000e+07</td>\n",
       "      <td>2005.000000</td>\n",
       "      <td>595.000000</td>\n",
       "      <td>6.600000</td>\n",
       "      <td>2.350000</td>\n",
       "      <td>166.000000</td>\n",
       "    </tr>\n",
       "    <tr>\n",
       "      <th>75%</th>\n",
       "      <td>195.000000</td>\n",
       "      <td>118.000000</td>\n",
       "      <td>194.500000</td>\n",
       "      <td>636.000000</td>\n",
       "      <td>11000.000000</td>\n",
       "      <td>6.230944e+07</td>\n",
       "      <td>9.630900e+04</td>\n",
       "      <td>13756.500000</td>\n",
       "      <td>2.000000</td>\n",
       "      <td>326.000000</td>\n",
       "      <td>4.500000e+07</td>\n",
       "      <td>2011.000000</td>\n",
       "      <td>918.000000</td>\n",
       "      <td>7.200000</td>\n",
       "      <td>2.350000</td>\n",
       "      <td>3000.000000</td>\n",
       "    </tr>\n",
       "    <tr>\n",
       "      <th>max</th>\n",
       "      <td>813.000000</td>\n",
       "      <td>511.000000</td>\n",
       "      <td>23000.000000</td>\n",
       "      <td>23000.000000</td>\n",
       "      <td>640000.000000</td>\n",
       "      <td>7.605058e+08</td>\n",
       "      <td>1.689764e+06</td>\n",
       "      <td>656730.000000</td>\n",
       "      <td>43.000000</td>\n",
       "      <td>5060.000000</td>\n",
       "      <td>1.221550e+10</td>\n",
       "      <td>2016.000000</td>\n",
       "      <td>137000.000000</td>\n",
       "      <td>9.500000</td>\n",
       "      <td>16.000000</td>\n",
       "      <td>349000.000000</td>\n",
       "    </tr>\n",
       "  </tbody>\n",
       "</table>\n",
       "</div>"
      ],
      "text/plain": [
       "       num_critic_for_reviews     duration  director_facebook_likes  \\\n",
       "count             4993.000000  5028.000000              4939.000000   \n",
       "mean               140.194272   107.201074               686.509212   \n",
       "std                121.601675    25.197441              2813.328607   \n",
       "min                  1.000000     7.000000                 0.000000   \n",
       "25%                 50.000000    93.000000                 7.000000   \n",
       "50%                110.000000   103.000000                49.000000   \n",
       "75%                195.000000   118.000000               194.500000   \n",
       "max                813.000000   511.000000             23000.000000   \n",
       "\n",
       "       actor_3_facebook_likes  actor_1_facebook_likes         gross  \\\n",
       "count             5020.000000             5036.000000  4.159000e+03   \n",
       "mean               645.009761             6560.047061  4.846841e+07   \n",
       "std               1665.041728            15020.759120  6.845299e+07   \n",
       "min                  0.000000                0.000000  1.620000e+02   \n",
       "25%                133.000000              614.000000  5.340988e+06   \n",
       "50%                371.500000              988.000000  2.551750e+07   \n",
       "75%                636.000000            11000.000000  6.230944e+07   \n",
       "max              23000.000000           640000.000000  7.605058e+08   \n",
       "\n",
       "       num_voted_users  cast_total_facebook_likes  facenumber_in_poster  \\\n",
       "count     5.043000e+03                5043.000000           5030.000000   \n",
       "mean      8.366816e+04                9699.063851              1.371173   \n",
       "std       1.384853e+05               18163.799124              2.013576   \n",
       "min       5.000000e+00                   0.000000              0.000000   \n",
       "25%       8.593500e+03                1411.000000              0.000000   \n",
       "50%       3.435900e+04                3090.000000              1.000000   \n",
       "75%       9.630900e+04               13756.500000              2.000000   \n",
       "max       1.689764e+06              656730.000000             43.000000   \n",
       "\n",
       "       num_user_for_reviews        budget   title_year  \\\n",
       "count           5022.000000  4.551000e+03  4935.000000   \n",
       "mean             272.770808  3.975262e+07  2002.470517   \n",
       "std              377.982886  2.061149e+08    12.474599   \n",
       "min                1.000000  2.180000e+02  1916.000000   \n",
       "25%               65.000000  6.000000e+06  1999.000000   \n",
       "50%              156.000000  2.000000e+07  2005.000000   \n",
       "75%              326.000000  4.500000e+07  2011.000000   \n",
       "max             5060.000000  1.221550e+10  2016.000000   \n",
       "\n",
       "       actor_2_facebook_likes   imdb_score  aspect_ratio  movie_facebook_likes  \n",
       "count             5030.000000  5043.000000   4714.000000           5043.000000  \n",
       "mean              1651.754473     6.442138      2.220403           7525.964505  \n",
       "std               4042.438863     1.125116      1.385113          19320.445110  \n",
       "min                  0.000000     1.600000      1.180000              0.000000  \n",
       "25%                281.000000     5.800000      1.850000              0.000000  \n",
       "50%                595.000000     6.600000      2.350000            166.000000  \n",
       "75%                918.000000     7.200000      2.350000           3000.000000  \n",
       "max             137000.000000     9.500000     16.000000         349000.000000  "
      ]
     },
     "execution_count": 119,
     "metadata": {},
     "output_type": "execute_result"
    }
   ],
   "source": [
    "df.describe()"
   ]
  },
  {
   "cell_type": "code",
   "execution_count": 147,
   "metadata": {},
   "outputs": [
    {
     "data": {
      "image/png": "[encoded data removed]",
      "text/plain": [
       "<Figure size 432x288 with 1 Axes>"
      ]
     },
     "metadata": {
      "needs_background": "light"
     },
     "output_type": "display_data"
    }
   ],
   "source": [
    "df.boxplot('gross')\n",
    "plt.ylabel(\"Millions\")\n",
    "plt.title(\"Figure 1\")\n",
    "plt.show()"
   ]
  },
  {
   "cell_type": "code",
   "execution_count": 148,
   "metadata": {},
   "outputs": [
    {
     "data": {
      "image/png": "[encoded data removed]",
      "text/plain": [
       "<Figure size 432x288 with 1 Axes>"
      ]
     },
     "metadata": {
      "needs_background": "light"
     },
     "output_type": "display_data"
    }
   ],
   "source": [
    "df.boxplot('movie_facebook_likes')\n",
    "plt.title(\"Figure 2\")\n",
    "plt.show()"
   ]
  },
  {
   "cell_type": "code",
   "execution_count": 149,
   "metadata": {},
   "outputs": [
    {
     "data": {
      "image/png": "[encoded data removed]",
      "text/plain": [
       "<Figure size 432x288 with 1 Axes>"
      ]
     },
     "metadata": {
      "needs_background": "light"
     },
     "output_type": "display_data"
    }
   ],
   "source": [
    "#removing outlier\n",
    "df_clean = df[df['movie_facebook_likes'] <300000]\n",
    "\n",
    "df_clean.boxplot('movie_facebook_likes')\n",
    "plt.title(\"Figure 3\")\n",
    "plt.show()"
   ]
  },
  {
   "cell_type": "code",
   "execution_count": 150,
   "metadata": {},
   "outputs": [
    {
     "data": {
      "image/png": "[encoded data removed]",
      "text/plain": [
       "<Figure size 432x288 with 1 Axes>"
      ]
     },
     "metadata": {
      "needs_background": "light"
     },
     "output_type": "display_data"
    }
   ],
   "source": [
    "df.boxplot('num_critic_for_reviews')\n",
    "plt.title(\"Figure 4\")\n",
    "plt.show()"
   ]
  },
  {
   "cell_type": "code",
   "execution_count": 52,
   "metadata": {},
   "outputs": [],
   "source": [
    "#split into high and low gross groups\n",
    "group1 = df_clean['gross'] >=3000000\n",
    "high_gross = df_clean[group1]\n",
    "\n",
    "group2 = df_clean['gross'] <=3000000\n",
    "low_gross = df_clean[group2]"
   ]
  },
  {
   "cell_type": "code",
   "execution_count": 178,
   "metadata": {},
   "outputs": [],
   "source": [
    "#split my data into two halves for exploration and testsing for both high and low gross\n",
    "split = np.array_split(low_gross,2)\n",
    "devlist_low_gross = split[0]\n",
    "testlist_low_gross = split[1]\n",
    "\n",
    "split2 = np.array_split(high_gross,2)\n",
    "devlist_high_gross = split2[0]\n",
    "testlist_high_gross = split2[1]"
   ]
  },
  {
   "cell_type": "code",
   "execution_count": 179,
   "metadata": {},
   "outputs": [
    {
     "data": {
      "image/png": "[encoded data removed]",
      "text/plain": [
       "<Figure size 432x288 with 1 Axes>"
      ]
     },
     "metadata": {
      "needs_background": "light"
     },
     "output_type": "display_data"
    }
   ],
   "source": [
    "#Scatter plot to see correlation\n",
    "plt.scatter(devlist_high_gross['num_user_for_reviews'], devlist_high_gross['gross'])\n",
    "plt.xlabel(\"Number of user reviews\")\n",
    "plt.ylabel(\"Gross (Millions)\")\n",
    "plt.title(\"Figure 5\")\n",
    "plt.show()"
   ]
  },
  {
   "cell_type": "code",
   "execution_count": 181,
   "metadata": {},
   "outputs": [
    {
     "data": {
      "text/plain": [
       "0.5583525081697462"
      ]
     },
     "execution_count": 181,
     "metadata": {},
     "output_type": "execute_result"
    }
   ],
   "source": [
    "#correlation coefficient \n",
    "devlist_high_gross['num_user_for_reviews'].corr(devlist_high_gross['gross'])"
   ]
  },
  {
   "cell_type": "code",
   "execution_count": 182,
   "metadata": {},
   "outputs": [
    {
     "data": {
      "image/png": "[encoded data removed]",
      "text/plain": [
       "<Figure size 432x288 with 1 Axes>"
      ]
     },
     "metadata": {
      "needs_background": "light"
     },
     "output_type": "display_data"
    }
   ],
   "source": [
    "plt.scatter(devlist_low_gross['num_user_for_reviews'], devlist_low_gross['gross'])\n",
    "plt.xlabel(\"Number of user reviews\")\n",
    "plt.ylabel(\"Gross (Millions)\")\n",
    "plt.title(\"Figure 6\")\n",
    "plt.show()"
   ]
  },
  {
   "cell_type": "code",
   "execution_count": 183,
   "metadata": {},
   "outputs": [
    {
     "data": {
      "text/plain": [
       "0.06978893110703435"
      ]
     },
     "execution_count": 183,
     "metadata": {},
     "output_type": "execute_result"
    }
   ],
   "source": [
    "devlist_low_gross['num_user_for_reviews'].corr(devlist_low_gross['gross'])"
   ]
  },
  {
   "cell_type": "code",
   "execution_count": 184,
   "metadata": {},
   "outputs": [],
   "source": [
    "#partitioning off into only the budget of interest\n",
    "df_our_budget = devlist_high_gross[devlist_high_gross['budget'] <=1500000]"
   ]
  },
  {
   "cell_type": "code",
   "execution_count": 185,
   "metadata": {},
   "outputs": [
    {
     "data": {
      "text/plain": [
       "color                        0\n",
       "director_name                0\n",
       "num_critic_for_reviews       0\n",
       "duration                     0\n",
       "director_facebook_likes      0\n",
       "actor_3_facebook_likes       0\n",
       "actor_2_name                 0\n",
       "actor_1_facebook_likes       0\n",
       "gross                        0\n",
       "genres                       0\n",
       "actor_1_name                 0\n",
       "movie_title                  0\n",
       "num_voted_users              0\n",
       "cast_total_facebook_likes    0\n",
       "actor_3_name                 0\n",
       "facenumber_in_poster         0\n",
       "plot_keywords                0\n",
       "movie_imdb_link              0\n",
       "num_user_for_reviews         0\n",
       "language                     0\n",
       "country                      0\n",
       "content_rating               0\n",
       "budget                       0\n",
       "title_year                   0\n",
       "actor_2_facebook_likes       0\n",
       "imdb_score                   0\n",
       "aspect_ratio                 0\n",
       "movie_facebook_likes         0\n",
       "dtype: int64"
      ]
     },
     "execution_count": 185,
     "metadata": {},
     "output_type": "execute_result"
    }
   ],
   "source": [
    "#no data within our budget for dev data\n",
    "df_our_budget.count()"
   ]
  },
  {
   "cell_type": "code",
   "execution_count": 186,
   "metadata": {},
   "outputs": [
    {
     "data": {
      "image/png": "[encoded data removed]",
      "text/plain": [
       "<Figure size 432x288 with 1 Axes>"
      ]
     },
     "metadata": {
      "needs_background": "light"
     },
     "output_type": "display_data"
    }
   ],
   "source": [
    "plt.scatter(devlist_high_gross['movie_facebook_likes'], devlist_high_gross['gross'])\n",
    "plt.xlabel(\"Movie facebook likes\")\n",
    "plt.ylabel(\"Gross (Millions)\")\n",
    "plt.title(\"Figure 7\")\n",
    "plt.show()"
   ]
  },
  {
   "cell_type": "code",
   "execution_count": 187,
   "metadata": {},
   "outputs": [
    {
     "data": {
      "text/plain": [
       "0.3742879969702411"
      ]
     },
     "execution_count": 187,
     "metadata": {},
     "output_type": "execute_result"
    }
   ],
   "source": [
    "devlist_high_gross['movie_facebook_likes'].corr(devlist_high_gross['gross'])"
   ]
  },
  {
   "cell_type": "code",
   "execution_count": 188,
   "metadata": {},
   "outputs": [
    {
     "data": {
      "image/png": "[encoded data removed]",
      "text/plain": [
       "<Figure size 432x288 with 1 Axes>"
      ]
     },
     "metadata": {
      "needs_background": "light"
     },
     "output_type": "display_data"
    }
   ],
   "source": [
    "plt.scatter(devlist_low_gross['movie_facebook_likes'], devlist_low_gross['gross'])\n",
    "plt.xlabel(\"Movie facebook likes\")\n",
    "plt.ylabel(\"Gross (Millions)\")\n",
    "plt.title(\"Figure 8\")\n",
    "plt.show()"
   ]
  },
  {
   "cell_type": "code",
   "execution_count": 189,
   "metadata": {},
   "outputs": [
    {
     "data": {
      "text/plain": [
       "0.1067527622073111"
      ]
     },
     "execution_count": 189,
     "metadata": {},
     "output_type": "execute_result"
    }
   ],
   "source": [
    "devlist_low_gross['movie_facebook_likes'].corr(devlist_low_gross['gross'])"
   ]
  },
  {
   "cell_type": "code",
   "execution_count": 190,
   "metadata": {},
   "outputs": [
    {
     "name": "stdout",
     "output_type": "stream",
     "text": [
      "443.0186074429772\n",
      "13241.213085234094\n"
     ]
    }
   ],
   "source": [
    "#means for high gross\n",
    "Mean_high_gross_user_rev = devlist_high_gross['num_user_for_reviews'].mean()\n",
    "Mean_high_gross_fb_likes = devlist_high_gross['movie_facebook_likes'].mean()\n",
    "\n",
    "print(Mean_high_gross_user_rev)\n",
    "print(Mean_high_gross_fb_likes)"
   ]
  },
  {
   "cell_type": "code",
   "execution_count": 191,
   "metadata": {},
   "outputs": [
    {
     "name": "stdout",
     "output_type": "stream",
     "text": [
      "125.78846153846153\n",
      "3113.314903846154\n"
     ]
    }
   ],
   "source": [
    "#and for low gross\n",
    "Mean_low_gross_user_rev = devlist_low_gross['num_user_for_reviews'].mean()\n",
    "Mean_low_gross_fb_likes = devlist_low_gross['movie_facebook_likes'].mean()\n",
    "\n",
    "print(Mean_low_gross_user_rev)\n",
    "print(Mean_low_gross_fb_likes)"
   ]
  },
  {
   "cell_type": "code",
   "execution_count": 264,
   "metadata": {},
   "outputs": [],
   "source": [
    "#test data"
   ]
  },
  {
   "cell_type": "markdown",
   "metadata": {},
   "source": [
    "The same analysis was performed on test data. As before, the relationship between number of user reviews and gross was stronger in the high gross group than the low gross group (r= .037 and r= 0.25, retrospectively)(Figure 9, Figure 10). This was also true for movie Facebook likes (r= .22, r= .04)(Figure 12, Figure 13). Unlike the exploration data, the test data contained many data points within our budget. When these were analysed, the high gross group showed a much stronger relationship between number of user reviews and gross (r= .67)(Figure 11). However, for movie Facebook likes the relationship became non-existent (r= .01)(Figure 14). \n",
    "\n",
    "A t-test was performed. This means that any violation of the assumption of normality would be adjusted for. A significant difference (p= 0.00) was found between the mean number of user reviews in the high and low groups, with a higher mean number of user reviews in the high gross group. There was also a significant difference (p= 0.00) between the mean number of Facebook likes in the high and low groups, whereby the mean was higher in the high gross group.\n",
    "\n",
    "When looking solely at the data from films within our budget (£1.5 Million), there was still a significant difference (p= 0.00) in mean number of user reviews between high and low gross groups, in the same direction as before. Despite neither the high or low gross group showing a relationship between Facebook likes and gross. There was still a significant difference (p= 0.00) between the means for the two groups, with mean Facebook likes being higher in the high gross group than low gross group. \n"
   ]
  },
  {
   "cell_type": "code",
   "execution_count": 172,
   "metadata": {},
   "outputs": [
    {
     "data": {
      "image/png": "[encoded data removed]",
      "text/plain": [
       "<Figure size 432x288 with 1 Axes>"
      ]
     },
     "metadata": {
      "needs_background": "light"
     },
     "output_type": "display_data"
    }
   ],
   "source": [
    "plt.scatter(testlist_high_gross['num_user_for_reviews'], testlist_high_gross['gross'])\n",
    "plt.xlabel(\"Number of users for reviews\")\n",
    "plt.ylabel(\"Gross (Millions)\")\n",
    "plt.title(\"Figure 9\")\n",
    "plt.show()"
   ]
  },
  {
   "cell_type": "code",
   "execution_count": 63,
   "metadata": {},
   "outputs": [
    {
     "data": {
      "text/plain": [
       "0.3657584163523119"
      ]
     },
     "execution_count": 63,
     "metadata": {},
     "output_type": "execute_result"
    }
   ],
   "source": [
    "testlist_high_gross['num_user_for_reviews'].corr(testlist_high_gross['gross'])"
   ]
  },
  {
   "cell_type": "code",
   "execution_count": 158,
   "metadata": {},
   "outputs": [
    {
     "data": {
      "image/png": "[encoded data removed]",
      "text/plain": [
       "<Figure size 432x288 with 1 Axes>"
      ]
     },
     "metadata": {
      "needs_background": "light"
     },
     "output_type": "display_data"
    }
   ],
   "source": [
    "plt.scatter(testlist_low_gross['num_user_for_reviews'], testlist_low_gross['gross'])\n",
    "plt.xlabel(\"Number of users for reviews\")\n",
    "plt.ylabel(\"Gross (Millions)\")\n",
    "plt.title(\"Figure 10\")\n",
    "plt.show()"
   ]
  },
  {
   "cell_type": "code",
   "execution_count": 71,
   "metadata": {},
   "outputs": [
    {
     "data": {
      "text/plain": [
       "0.246099201251166"
      ]
     },
     "execution_count": 71,
     "metadata": {},
     "output_type": "execute_result"
    }
   ],
   "source": [
    "testlist_low_gross['num_user_for_reviews'].corr(testlist_low_gross['gross'])"
   ]
  },
  {
   "cell_type": "code",
   "execution_count": 73,
   "metadata": {},
   "outputs": [],
   "source": [
    "#retriving data for our budget - high gross\n",
    "df_our_budget2 =testlist_high_gross[testlist_high_gross['budget'] <=1500000]"
   ]
  },
  {
   "cell_type": "code",
   "execution_count": 173,
   "metadata": {},
   "outputs": [
    {
     "data": {
      "image/png": "[encoded data removed]",
      "text/plain": [
       "<Figure size 432x288 with 1 Axes>"
      ]
     },
     "metadata": {
      "needs_background": "light"
     },
     "output_type": "display_data"
    }
   ],
   "source": [
    "plt.scatter(df_our_budget2['num_user_for_reviews'], df_our_budget2['gross'])\n",
    "plt.xlabel(\"Number of users for reviews\")\n",
    "plt.ylabel(\"Gross (Millions)\")\n",
    "plt.title(\"Figure 11\")\n",
    "plt.show()"
   ]
  },
  {
   "cell_type": "code",
   "execution_count": 75,
   "metadata": {},
   "outputs": [
    {
     "data": {
      "text/plain": [
       "0.6708398451352189"
      ]
     },
     "execution_count": 75,
     "metadata": {},
     "output_type": "execute_result"
    }
   ],
   "source": [
    "df_our_budget2['num_user_for_reviews'].corr(df_our_budget2['gross'])"
   ]
  },
  {
   "cell_type": "code",
   "execution_count": 175,
   "metadata": {},
   "outputs": [
    {
     "data": {
      "image/png": "[encoded data removed]",
      "text/plain": [
       "<Figure size 432x288 with 1 Axes>"
      ]
     },
     "metadata": {
      "needs_background": "light"
     },
     "output_type": "display_data"
    }
   ],
   "source": [
    "plt.scatter(testlist_high_gross['movie_facebook_likes'], testlist_high_gross['gross'])\n",
    "plt.xlabel(\"Movie facebook likes\")\n",
    "plt.ylabel(\"Gross (Millions)\")\n",
    "plt.title(\"Figure 12\")\n",
    "plt.show()"
   ]
  },
  {
   "cell_type": "code",
   "execution_count": 81,
   "metadata": {},
   "outputs": [
    {
     "data": {
      "text/plain": [
       "0.2184989085041956"
      ]
     },
     "execution_count": 81,
     "metadata": {},
     "output_type": "execute_result"
    }
   ],
   "source": [
    "testlist_high_gross['movie_facebook_likes'].corr(testlist_high_gross['gross'])"
   ]
  },
  {
   "cell_type": "code",
   "execution_count": 176,
   "metadata": {},
   "outputs": [
    {
     "data": {
      "image/png": "[encoded data removed]",
      "text/plain": [
       "<Figure size 432x288 with 1 Axes>"
      ]
     },
     "metadata": {
      "needs_background": "light"
     },
     "output_type": "display_data"
    }
   ],
   "source": [
    "plt.scatter(testlist_low_gross['movie_facebook_likes'], testlist_low_gross['gross'])\n",
    "plt.xlabel(\"Movie facebook likes\")\n",
    "plt.ylabel(\"Gross (Millions)\")\n",
    "plt.title(\"Figure 13\")\n",
    "plt.show()"
   ]
  },
  {
   "cell_type": "code",
   "execution_count": 83,
   "metadata": {},
   "outputs": [
    {
     "data": {
      "text/plain": [
       "0.037171688677738846"
      ]
     },
     "execution_count": 83,
     "metadata": {},
     "output_type": "execute_result"
    }
   ],
   "source": [
    "testlist_low_gross['movie_facebook_likes'].corr(testlist_low_gross['gross'])"
   ]
  },
  {
   "cell_type": "code",
   "execution_count": 177,
   "metadata": {},
   "outputs": [
    {
     "data": {
      "image/png": "[encoded data removed]",
      "text/plain": [
       "<Figure size 432x288 with 1 Axes>"
      ]
     },
     "metadata": {
      "needs_background": "light"
     },
     "output_type": "display_data"
    }
   ],
   "source": [
    "plt.scatter(df_our_budget2['movie_facebook_likes'], df_our_budget2['gross'])\n",
    "plt.xlabel(\"Movie facebook likes\")\n",
    "plt.ylabel(\"Gross (Millions)\")\n",
    "plt.title(\"Figure 14\")\n",
    "plt.show()"
   ]
  },
  {
   "cell_type": "code",
   "execution_count": 86,
   "metadata": {},
   "outputs": [
    {
     "data": {
      "text/plain": [
       "0.009805694285543879"
      ]
     },
     "execution_count": 86,
     "metadata": {},
     "output_type": "execute_result"
    }
   ],
   "source": [
    "df_our_budget2['movie_facebook_likes'].corr(df_our_budget2['gross'])"
   ]
  },
  {
   "cell_type": "code",
   "execution_count": 87,
   "metadata": {},
   "outputs": [
    {
     "name": "stdout",
     "output_type": "stream",
     "text": [
      "285.15615615615616\n",
      "329.677278277013\n",
      "1665\n"
     ]
    }
   ],
   "source": [
    "#mean, SD and count for user reviews in high gross group\n",
    "Mean_high_gross_user_rev2 = testlist_high_gross['num_user_for_reviews'].mean()\n",
    "Std_high_gross_user_rev2 = testlist_high_gross['num_user_for_reviews'].std()   \n",
    "count_high_gross_user_rev2 = testlist_high_gross['num_user_for_reviews'].count()\n",
    "\n",
    "print(Mean_high_gross_user_rev2)\n",
    "print(Std_high_gross_user_rev2)\n",
    "print(count_high_gross_user_rev2)"
   ]
  },
  {
   "cell_type": "code",
   "execution_count": 88,
   "metadata": {},
   "outputs": [
    {
     "name": "stdout",
     "output_type": "stream",
     "text": [
      "87.34057971014492\n",
      "114.67597237371402\n",
      "414\n"
     ]
    }
   ],
   "source": [
    "#and in the low gross group\n",
    "Mean_low_gross_user_rev2 = testlist_low_gross['num_user_for_reviews'].mean()\n",
    "Std_low_gross_user_rev2 = testlist_low_gross['num_user_for_reviews'].std()   \n",
    "count_low_gross_user_rev2 = testlist_low_gross['num_user_for_reviews'].count()\n",
    "\n",
    "print(Mean_low_gross_user_rev2)\n",
    "print(Std_low_gross_user_rev2)\n",
    "print(count_low_gross_user_rev2)"
   ]
  },
  {
   "cell_type": "code",
   "execution_count": 104,
   "metadata": {},
   "outputs": [
    {
     "name": "stdout",
     "output_type": "stream",
     "text": [
      "p_value:  0.000\n"
     ]
    }
   ],
   "source": [
    "#ttest comparing means of user reviews in high and low gross groups\n",
    "\n",
    "combinederror3=(((Std_low_gross_user_rev2**2)/count_low_gross_user_rev2)+(Std_high_gross_user_rev2**2)/count_high_gross_user_rev2)**0.5\n",
    "z= (Mean_high_gross_user_rev2 - Mean_low_gross_user_rev2)/combinederror3\n",
    "\n",
    "p_value_from_normal_for_diff3 = (1-stats.norm.cdf(z))\n",
    "print('p_value: ','%.3f' % p_value_from_normal_for_diff3)"
   ]
  },
  {
   "cell_type": "code",
   "execution_count": 90,
   "metadata": {},
   "outputs": [
    {
     "name": "stdout",
     "output_type": "stream",
     "text": [
      "7218.513513513513\n",
      "16611.382278048703\n",
      "1665\n"
     ]
    }
   ],
   "source": [
    "#mean, SD and count for facebook likes in high gross group\n",
    "Mean_high_gross_fb_likes2 = testlist_high_gross['movie_facebook_likes'].mean()\n",
    "Std_high_gross_fb_likes2 = testlist_high_gross['movie_facebook_likes'].std()   \n",
    "count_high_gross_fb_likes2 = testlist_high_gross['movie_facebook_likes'].count()\n",
    "\n",
    "print(Mean_high_gross_fb_likes2)\n",
    "print(Std_high_gross_fb_likes2)\n",
    "print(count_high_gross_fb_likes2)"
   ]
  },
  {
   "cell_type": "code",
   "execution_count": 91,
   "metadata": {},
   "outputs": [
    {
     "name": "stdout",
     "output_type": "stream",
     "text": [
      "2259.7927710843373\n",
      "7704.975340989832\n",
      "415\n"
     ]
    }
   ],
   "source": [
    "#and in the low gross group\n",
    "Mean_low_gross_fb_likes2 = testlist_low_gross['movie_facebook_likes'].mean()\n",
    "Std_low_gross_fb_likes2 = testlist_low_gross['movie_facebook_likes'].std()   \n",
    "count_low_gross_fb_likes2 = testlist_low_gross['movie_facebook_likes'].count()\n",
    "\n",
    "print(Mean_low_gross_fb_likes2)\n",
    "print(Std_low_gross_fb_likes2)\n",
    "print(count_low_gross_fb_likes2)"
   ]
  },
  {
   "cell_type": "code",
   "execution_count": 107,
   "metadata": {},
   "outputs": [
    {
     "name": "stdout",
     "output_type": "stream",
     "text": [
      "p_value:  0.000\n"
     ]
    }
   ],
   "source": [
    "#ttest comparing means of facebook likes in high and low gross groups\n",
    "\n",
    "combinederror4=(((Std_high_gross_fb_likes2**2)/count_high_gross_fb_likes2)+(Std_low_gross_fb_likes2**2)/count_low_gross_fb_likes2)**0.5\n",
    "z= (Mean_high_gross_fb_likes2 - Mean_low_gross_fb_likes2)/combinederror4\n",
    "\n",
    "p_value_from_normal_for_diff4 = (1-stats.norm.cdf(z))\n",
    "print('p_value: ','%.3f' %p_value_from_normal_for_diff4)"
   ]
  },
  {
   "cell_type": "code",
   "execution_count": 133,
   "metadata": {},
   "outputs": [
    {
     "name": "stdout",
     "output_type": "stream",
     "text": [
      "395.1923076923077\n",
      "492.9523845632085\n",
      "78\n"
     ]
    }
   ],
   "source": [
    "#same analysis as before, but only using data within the £1.5 Million budget\n",
    "Mean_high_my_budget_user_rev = df_our_budget2['num_user_for_reviews'].mean()\n",
    "Std_high_my_budget_user_rev = df_our_budget2['num_user_for_reviews'].std()   \n",
    "count_high_my_budget_user_rev = df_our_budget2['num_user_for_reviews'].count()\n",
    "\n",
    "print(Mean_high_my_budget_user_rev)\n",
    "print(Std_high_my_budget_user_rev)\n",
    "print(count_high_my_budget_user_rev)"
   ]
  },
  {
   "cell_type": "code",
   "execution_count": 130,
   "metadata": {},
   "outputs": [],
   "source": [
    "df_our_budget3 =testlist_low_gross[testlist_low_gross['budget'] <=1500000]"
   ]
  },
  {
   "cell_type": "code",
   "execution_count": 134,
   "metadata": {},
   "outputs": [
    {
     "name": "stdout",
     "output_type": "stream",
     "text": [
      "86.32367149758454\n",
      "121.65320186628364\n",
      "207\n"
     ]
    }
   ],
   "source": [
    "Mean_low_my_budget_user_rev2 = df_our_budget3['num_user_for_reviews'].mean()\n",
    "Std_low_my_budget_user_rev2 = df_our_budget3['num_user_for_reviews'].std()   \n",
    "count_low_my_budget_user_rev2 = df_our_budget3['num_user_for_reviews'].count()\n",
    "\n",
    "print(Mean_low_my_budget_user_rev2)\n",
    "print(Std_low_my_budget_user_rev2)\n",
    "print(count_low_my_budget_user_rev2)"
   ]
  },
  {
   "cell_type": "code",
   "execution_count": 137,
   "metadata": {},
   "outputs": [
    {
     "name": "stdout",
     "output_type": "stream",
     "text": [
      "p_value:  0.000\n"
     ]
    }
   ],
   "source": [
    "combinederror3=(((Std_low_my_budget_user_rev2**2)/count_low_my_budget_user_rev2)+(Std_high_my_budget_user_rev**2)/count_high_my_budget_user_rev)**0.5\n",
    "z= (Mean_high_my_budget_user_rev - Mean_low_my_budget_user_rev2)/combinederror3\n",
    "\n",
    "p_value_from_normal_for_diff3 = (1-stats.norm.cdf(z))\n",
    "print('p_value: ','%.3f' % p_value_from_normal_for_diff3)"
   ]
  },
  {
   "cell_type": "code",
   "execution_count": 135,
   "metadata": {},
   "outputs": [
    {
     "name": "stdout",
     "output_type": "stream",
     "text": [
      "6360.384615384615\n",
      "12131.004262697237\n",
      "78\n"
     ]
    }
   ],
   "source": [
    "Mean_high_my_budget_fb_likes = df_our_budget2['movie_facebook_likes'].mean()\n",
    "Std_high_my_budget_fb_likes = df_our_budget2['movie_facebook_likes'].std()   \n",
    "count_high_my_budget_fb_likes = df_our_budget2['movie_facebook_likes'].count()\n",
    "\n",
    "print(Mean_high_my_budget_fb_likes)\n",
    "print(Std_high_my_budget_fb_likes)\n",
    "print(count_high_my_budget_fb_likes)"
   ]
  },
  {
   "cell_type": "code",
   "execution_count": 136,
   "metadata": {},
   "outputs": [
    {
     "name": "stdout",
     "output_type": "stream",
     "text": [
      "1438.7342995169083\n",
      "4993.4941909334175\n",
      "207\n"
     ]
    }
   ],
   "source": [
    "Mean_low_my_budget_fb_likes = df_our_budget3['movie_facebook_likes'].mean()\n",
    "Std_low_my_budget_fb_likes = df_our_budget3['movie_facebook_likes'].std()   \n",
    "count_low_my_budget_fb_likes = df_our_budget3['movie_facebook_likes'].count()\n",
    "\n",
    "print(Mean_low_my_budget_fb_likes)\n",
    "print(Std_low_my_budget_fb_likes)\n",
    "print(count_low_my_budget_fb_likes)"
   ]
  },
  {
   "cell_type": "code",
   "execution_count": 138,
   "metadata": {},
   "outputs": [
    {
     "name": "stdout",
     "output_type": "stream",
     "text": [
      "p_value:  0.000\n"
     ]
    }
   ],
   "source": [
    "combinederror3=(((Std_low_my_budget_fb_likes**2)/count_low_my_budget_fb_likes)+(Std_high_my_budget_fb_likes**2)/count_high_my_budget_fb_likes)**0.5\n",
    "z= (Mean_high_my_budget_fb_likes - Mean_low_my_budget_fb_likes)/combinederror3\n",
    "\n",
    "p_value_from_normal_for_diff3 = (1-stats.norm.cdf(z))\n",
    "print('p_value: ','%.3f' % p_value_from_normal_for_diff3)"
   ]
  },
  {
   "cell_type": "markdown",
   "metadata": {},
   "source": [
    "Report summary:\n",
    "\n",
    "This report aimed to look at the properties of high and low grossing movies. I looked at weather measures of online communication between moviegogers has a relationship with gross and weather these differed between high and low grossing movies. It also looked at weather these relationships held true at a low budget (£1.5 Million). My predictions about correlations were nor entirely supported by the data, however, both my hypotheses were supported by significant findings. Both mean movie Facebook likes, and number of user reviews were significantly higher in the high gross group than the low gross group. This was also true only using data within our budget.  \n",
    "\n",
    "Based on my analysis, I would suggest the studio encourage any moviegoers to share their opinions on the movie on online film sites and social media, this conclusion is further supported by the aforementioned studies (Kim, Park & Park, 2013 & Tsao, 2014). This encouragement could be in the form of a short clip at the end of the movie, leaflets handed out at the movie theatre, or emails sent to those who booked online. \n",
    "\n",
    "However, some caution should be taken when using the results of this report to inform behaviour. There was a huge amount of data missing for the ‘Gross’ variable (884 missing data points), enough to potentially have a big impact on results. If we had access to these values, it is possible for the results to look quite different. \n",
    "\n",
    "If further analysis were to be completed, it would be useful to have a greater amount of data on low budget films, to better inform conclusions specifically about this, as it does seem from this data that low budget films can show different trends than 'any' budget films.\n"
   ]
  },
  {
   "cell_type": "markdown",
   "metadata": {},
   "source": [
    "References:\n",
    "\n",
    "IMDB, 2018, Feature Film, Released between 2018-01-01 and 2018-12-31 (Sorted by Popularity Ascending), https://www.imdb.com/search/title/?year=2018&title_type=feature&\n",
    "\n",
    "Kim, S.H., Park, N. and Park, S.H., 2013. Exploring the effects of online word of mouth and expert reviews on theatrical movies' box office success. Journal of Media Economics, 26(2), pp.98-114.\n",
    "\n",
    "OFCOM, 30 May 2019, Online nation report, https://www.ofcom.org.uk/__data/assets/pdf_file/0024/149253/online-nation-summary.pdf\n",
    "\n",
    "Tsao, W.C., 2014. Which type of online review is more persuasive? The influence of consumer reviews and critic ratings on moviegoers. Electronic Commerce Research, 14(4), pp.559-583\n"
   ]
  }
 ],
 "metadata": {
  "kernelspec": {
   "display_name": "Python 3",
   "language": "python",
   "name": "python3"
  },
  "language_info": {
   "codemirror_mode": {
    "name": "ipython",
    "version": 3
   },
   "file_extension": ".py",
   "mimetype": "text/x-python",
   "name": "python",
   "nbconvert_exporter": "python",
   "pygments_lexer": "ipython3",
   "version": "3.8.3"
  }
 },
 "nbformat": 4,
 "nbformat_minor": 4
}
